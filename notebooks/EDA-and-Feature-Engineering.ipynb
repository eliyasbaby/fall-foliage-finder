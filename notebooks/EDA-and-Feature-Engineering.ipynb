{
 "cells": [
  {
   "cell_type": "code",
   "execution_count": 3,
   "metadata": {
    "collapsed": false
   },
   "outputs": [],
   "source": [
    "from netCDF4 import Dataset\n",
    "import pandas as pd\n",
    "import numpy as np\n",
    "import matplotlib as mpl\n",
    "import matplotlib.pyplot as plt\n",
    "from mpl_toolkits.basemap import Basemap, cm\n",
    "import subprocess\n",
    "import os\n",
    "%matplotlib inline"
   ]
  },
  {
   "cell_type": "markdown",
   "metadata": {},
   "source": [
    "## Exploring NVDI data"
   ]
  },
  {
   "cell_type": "code",
   "execution_count": 58,
   "metadata": {
    "collapsed": false
   },
   "outputs": [],
   "source": [
    "data_folder = '../data/nvdi/nc/'\n",
    "files = os.listdir(data_folder)"
   ]
  },
  {
   "cell_type": "code",
   "execution_count": 107,
   "metadata": {
    "collapsed": false
   },
   "outputs": [
    {
     "name": "stdout",
     "output_type": "stream",
     "text": [
      "Number of files = 449\n",
      "Example file name: 2002.01.01.mask.nc\n",
      "Shape of all latitudes (614,)\n",
      "Shape of all longitudes (927,)\n",
      "Sahep of NVDI variable (614, 927)\n"
     ]
    }
   ],
   "source": [
    "print 'Number of files =', len(files)\n",
    "print 'Example file name:', files[0]\n",
    "print 'Shape of all latitudes', lats.shape\n",
    "print 'Shape of all longitudes', lons.shape\n",
    "print 'Sahep of NVDI variable', var.shape"
   ]
  },
  {
   "cell_type": "code",
   "execution_count": 81,
   "metadata": {
    "collapsed": false
   },
   "outputs": [],
   "source": [
    "# Loading the first NDVI netCDF file to import lat lon variables\n",
    "nc = Dataset(data_folder+files[0], 'r')\n",
    "lats = nc.variables['lat'][:]\n",
    "lons = nc.variables['lon'][:]\n",
    "nc.close()\n",
    "\n",
    "# Load all the files in the data folder\n",
    "data = np.zeros([len(lats), len(lons), len(files)])\n",
    "for i, f in enumerate(files):\n",
    "    nc = Dataset(data_folder+f, 'r')\n",
    "    var = nc.variables['Band1'][:]\n",
    "    data[:,:,i] = var\n",
    "    nc.close()\n",
    "    \n",
    "print data.shape"
   ]
  },
  {
   "cell_type": "code",
   "execution_count": 83,
   "metadata": {
    "collapsed": false
   },
   "outputs": [
    {
     "data": {
      "text/plain": [
       "(614, 927)"
      ]
     },
     "execution_count": 83,
     "metadata": {},
     "output_type": "execute_result"
    }
   ],
   "source": [
    "# Constructing a composite mask where True == somewhere in the time series there's a NaN value\n",
    "# -3000 is the null values used for NDVI files downloaded from USGS\n",
    "is_nan = (data == -3000.)\n",
    "mask = np.any(is_nan, axis=2)\n",
    "print mask.shape"
   ]
  },
  {
   "cell_type": "markdown",
   "metadata": {},
   "source": [
    "## Useful plotting functions"
   ]
  },
  {
   "cell_type": "code",
   "execution_count": 126,
   "metadata": {
    "collapsed": true
   },
   "outputs": [],
   "source": [
    "def plot_time_series(i, j, data):\n",
    "    time_series = data[i, j, :]\n",
    "    fig = plt.figure(figsize=(20,6))\n",
    "    ax = fig.add_subplot(1, 1, 1)\n",
    "    ax.plot(np.arange(len(time_series)), time_series)\n",
    "    note = 'lat = {0}, lon = {1}'.format(lats[i], lons[j])\n",
    "    ax.text(0.9, 2, note, fontsize=20)\n",
    "    plt.show()"
   ]
  },
  {
   "cell_type": "code",
   "execution_count": null,
   "metadata": {
    "collapsed": true
   },
   "outputs": [],
   "source": [
    "plot_time_series(200, 400, data)"
   ]
  },
  {
   "cell_type": "markdown",
   "metadata": {},
   "source": [
    "## Feature engineering from the weather data"
   ]
  },
  {
   "cell_type": "code",
   "execution_count": 21,
   "metadata": {
    "collapsed": false
   },
   "outputs": [],
   "source": [
    "# Aggregate from daily data to 8-day data to match NDVI\n",
    "\n",
    "folder = '../data/weather/'\n",
    "yrs = np.arange(2002, 2012)\n",
    "t = 8 # getting 8 day stats to match NDVI data\n",
    "\n",
    "# Setting the variables to use\n",
    "variables = ['Prec', 'Tmax', 'Tmax', 'Tmin', 'Tmin', 'Wind']\n",
    "stats     = ['sum' , 'max',  'mean',  'min', 'mean', 'max']\n",
    "func = 'timsel{s},{t}'\n",
    "infile = folder + '{yr}.{v}.nc'\n",
    "outfile = folder + '{yr}.{s}.of.{v}.nc'\n",
    "\n",
    "for v, s in zip(variables, stats):\n",
    "    file_list = []\n",
    "    for yr in yrs:\n",
    "        if yr == 2002:\n",
    "            subprocess.call(['cdo', 'timsel{s},{t},176'.format(s=s, t=t), infile.format(yr=yr, v=v), outfile.format(yr=yr, v=v, s=s)])\n",
    "        else:\n",
    "            subprocess.call(['cdo', func.format(s=s, t=t), infile.format(yr=yr, v=v), outfile.format(yr=yr, v=v, s=s)])\n",
    "        file_list.append(outfile.format(yr=yr, v=v, s=s))\n",
    "        \n",
    "    subprocess.call(['cdo', 'mergetime', ' '.join(file_list), folder+'all.{s}.of.{v}.nc'.format(v=v, s=s)])\n",
    "    \n",
    "    subprocess.call(['cdo', 'splitsel,437', folder+'all.{s}.of.{v}.nc'.format(v=v, s=s), folder+'all.{s}.of.{v}.nc'.format(v=v, s=s)])\n",
    "    subprocess.call(['mv', folder+'all.{s}.of.{v}.nc000000.nc'.format(v=v, s=s), folder+'all.{s}.of.{v}.nc'.format(v=v, s=s)])\n",
    "    subprocess.call(['rm', folder+'all.{s}.of.{v}.nc000001.nc'.format(v=v, s=s)])"
   ]
  }
 ],
 "metadata": {
  "kernelspec": {
   "display_name": "Python 2",
   "language": "python",
   "name": "python2"
  },
  "language_info": {
   "codemirror_mode": {
    "name": "ipython",
    "version": 2
   },
   "file_extension": ".py",
   "mimetype": "text/x-python",
   "name": "python",
   "nbconvert_exporter": "python",
   "pygments_lexer": "ipython2",
   "version": "2.7.11"
  }
 },
 "nbformat": 4,
 "nbformat_minor": 0
}

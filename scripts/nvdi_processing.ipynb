{
 "cells": [
  {
   "cell_type": "code",
   "execution_count": 18,
   "metadata": {
    "collapsed": false
   },
   "outputs": [],
   "source": [
    "import h5py\n",
    "from netCDF4 import Dataset"
   ]
  },
  {
   "cell_type": "code",
   "execution_count": 39,
   "metadata": {
    "collapsed": false
   },
   "outputs": [],
   "source": [
    "hdf_file = '/Users/Chiao/Google Drive/projects/Galvanize/fall-foliage-finder/data/nvdi/hdf/2002.07.12/h07v05.hdf'\n",
    "nc_file = '/Users/Chiao/Downloads/vic.params.nc'\n",
    "\n",
    "#f = Dataset(nc_file, 'r')\n",
    "#f = Dataset(hdf_file, 'r')\n",
    "#f = h5py.File(path, 'r')"
   ]
  },
  {
   "cell_type": "code",
   "execution_count": 40,
   "metadata": {
    "collapsed": true
   },
   "outputs": [],
   "source": [
    "import subprocess\n",
    "import os"
   ]
  },
  {
   "cell_type": "code",
   "execution_count": 49,
   "metadata": {
    "collapsed": false
   },
   "outputs": [
    {
     "name": "stdout",
     "output_type": "stream",
     "text": [
      "processing 2002.01.01.hdf\n"
     ]
    }
   ],
   "source": [
    "# list all files in self.f_path\n",
    "#files = os.listdir('../data/nvdi/hdf/')\n",
    "files = os.listdir('../data/test/')\n",
    "\n",
    "for f in files:\n",
    "    ext = f.split('.')[-1]\n",
    "    f_name = f[:-len(ext)]\n",
    "    \n",
    "    # for everything that ends with .xml, change it to .hdf.xml\n",
    "    if ext == 'xml':\n",
    "        new_ext = 'hdf.xml'\n",
    "        subprocess.call(['mv', f, f_name+new_ext])\n",
    "    \n",
    "    # for everything that ends with .hdf:\n",
    "    elif ext == 'hdf':\n",
    "        print 'processing', f\n",
    "        \n",
    "        # change file into netCDF format\n",
    "        subprocess.call(['gdal_translate', '-of', 'netCDF', \n",
    "        'HDF4_EOS:EOS_GRID:\"{0}\":MODIS_Grid_16Day_VI_CMG:CMG 0.05 Deg 16 days NDVI'.format(f),\n",
    "        f_name+'nc'])\n",
    "        \n",
    "        # delete original file\n",
    "        subprocess.call(['rm', f])"
   ]
  },
  {
   "cell_type": "code",
   "execution_count": 47,
   "metadata": {
    "collapsed": false
   },
   "outputs": [
    {
     "data": {
      "text/plain": [
       "'HDF4_EOS:EOS_GRID:\"test.jpg\":MODIS_Grid_16Day_VI_CMG:CMG 0.05 Deg 16 days NDVI'"
      ]
     },
     "execution_count": 47,
     "metadata": {},
     "output_type": "execute_result"
    }
   ],
   "source": [
    "'HDF4_EOS:EOS_GRID:\"{0}\":MODIS_Grid_16Day_VI_CMG:CMG 0.05 Deg 16 days NDVI'.format(f)"
   ]
  },
  {
   "cell_type": "code",
   "execution_count": null,
   "metadata": {
    "collapsed": true
   },
   "outputs": [],
   "source": []
  }
 ],
 "metadata": {
  "kernelspec": {
   "display_name": "Python 2",
   "language": "python",
   "name": "python2"
  },
  "language_info": {
   "codemirror_mode": {
    "name": "ipython",
    "version": 2
   },
   "file_extension": ".py",
   "mimetype": "text/x-python",
   "name": "python",
   "nbconvert_exporter": "python",
   "pygments_lexer": "ipython2",
   "version": "2.7.11"
  }
 },
 "nbformat": 4,
 "nbformat_minor": 0
}

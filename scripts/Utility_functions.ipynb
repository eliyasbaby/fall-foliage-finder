{
 "cells": [
  {
   "cell_type": "code",
   "execution_count": 5,
   "metadata": {
    "collapsed": false
   },
   "outputs": [
    {
     "name": "stdout",
     "output_type": "stream",
     "text": [
      "Overwriting util.py\n"
     ]
    }
   ],
   "source": [
    "%%writefile util.py\n",
    "from netCDF4 import Dataset\n",
    "import pandas as pd\n",
    "import numpy as np\n",
    "import matplotlib as mpl\n",
    "import matplotlib.pyplot as plt\n",
    "from mpl_toolkits.basemap import Basemap, cm\n",
    "\n",
    "def reformat_y(y):\n",
    "    y[y == -1] = 0\n",
    "    y = np.hstack((y.reshape(-1,1), 1-y.reshape(-1,1)))\n",
    "    return y\n",
    "\n",
    "def plot_time_series(i, j, time_series):\n",
    "    fig = plt.figure(figsize=(20,6))\n",
    "    ax = fig.add_subplot(1, 1, 1)\n",
    "    ax.plot(np.arange(len(time_series)), time_series)\n",
    "    note = 'lat = {0}, lon = {1}'.format(lats[i], lons[j])\n",
    "    ax.text(0.9, 2, note, fontsize=20)\n",
    "    plt.show()\n",
    "    \n",
    "def plot_list_in_2D(x, y, val):\n",
    "    plt.scatter(x, y, c=val, edgecolors='none', s=3)\n",
    "    plt.xlim(x.min(), x.max())\n",
    "    plt.ylim(y.min(), y.max())\n",
    "    plt.show() \n",
    "\n",
    "def plot_compare_map(lons, lats, y_true, y_predict, timestamp, cmap=None, folder='/home/ubuntu/dataset/output/'):\n",
    "    timestamp = str(int(timestamp))\n",
    "    yr = timestamp[:4]\n",
    "    mn = timestamp[4:6]\n",
    "    dt = timestamp[6:]\n",
    "    \n",
    "    if cmap is None:\n",
    "        cmap=mpl.cm.get_cmap('RdYlGn')\n",
    "        \n",
    "    norm = mpl.colors.Normalize(y_true.min, y_true.max)\n",
    "    area_thresh=25000\n",
    "    land_color='grey'\n",
    "    ocean_color='lightblue'\n",
    "\n",
    "    fig = plt.figure(figsize=(10,7))\n",
    "    plt.title('/'.join([yr, mn, dt]), loc='right', fontsize=14)\n",
    "    plt.axis('off')\n",
    "    ax = fig.add_subplot(2,1,1)\n",
    "    m = Basemap(projection='cyl', llcrnrlat=lats.min(), llcrnrlon=lons.min(),\n",
    "            urcrnrlat=lats.max(), urcrnrlon=lons.max(), resolution='f',\n",
    "            area_thresh=area_thresh)\n",
    "    m.scatter(lons, lats, c=y_true, edgecolor='none', cmap=cmap)\n",
    "    m.drawlsmask(land_color=land_color, ocean_color=ocean_color, lakes=True)\n",
    "    m.drawcountries()\n",
    "    m.drawcoastlines()\n",
    "    \n",
    "    ax = fig.add_subplot(2,1,2)\n",
    "    m = Basemap(projection='cyl', llcrnrlat=lats.min(), llcrnrlon=lons.min(),\n",
    "            urcrnrlat=lats.max(), urcrnrlon=lons.max(), resolution='f',\n",
    "            area_thresh=area_thresh)\n",
    "    m.scatter(lons, lats, c=y_predict,edgecolor='none',cmap=cmap)\n",
    "    m.drawlsmask(land_color=land_color, ocean_color=ocean_color, lakes=True)\n",
    "    m.drawcountries()\n",
    "    m.drawcoastlines()\n",
    "    img_path = folder+str(int(timestamp))+'.png'\n",
    "    plt.savefig(img_path)\n",
    "    return img_path"
   ]
  },
  {
   "cell_type": "code",
   "execution_count": 2,
   "metadata": {
    "collapsed": false
   },
   "outputs": [
    {
     "name": "stdout",
     "output_type": "stream",
     "text": [
      "Writing build_NN.py\n"
     ]
    }
   ],
   "source": [
    "%%writefile build_NN.py\n",
    "from keras.models import Sequential, Graph\n",
    "from keras.layers import Dense, Flatten, Activation, Dropout\n",
    "from keras.layers.convolutional import Convolution2D, ZeroPadding2D, MaxPooling2D\n",
    "from keras.optimizers import SGD\n",
    "from keras import backend as K\n",
    "\n",
    "def build_base_sequential_NN(n_conv_layers=2, nb_filters=16, nb_conv=3, map_dimensions=None, nb_pool=2):\n",
    "\n",
    "    model = Sequential()\n",
    "    model.add(Convolution2D(nb_filters, nb_conv, nb_conv,\n",
    "                            border_mode='valid',\n",
    "                            input_shape=map_dimensions))\n",
    "    \n",
    "    model.add(Activation('relu'))\n",
    "    model.add(Convolution2D(nb_filters, nb_conv, nb_conv))\n",
    "    model.add(Activation('relu'))\n",
    "    model.add(MaxPooling2D(pool_size=(nb_pool, nb_pool)))\n",
    "    model.add(Dropout(0.25))\n",
    "\n",
    "    model.add(Flatten())\n",
    "    model.add(Dense(128))\n",
    "    model.add(Activation('relu'))\n",
    "    model.add(Dropout(0.5))\n",
    "    model.add(Dense(2))\n",
    "    model.add(Activation('softmax'))\n",
    "\n",
    "    sgd = SGD()\n",
    "    model.compile(loss='categorical_crossentropy',\n",
    "                  optimizer=sgd,\n",
    "                  metrics=['accuracy'])\n",
    "    return model"
   ]
  },
  {
   "cell_type": "code",
   "execution_count": null,
   "metadata": {
    "collapsed": true
   },
   "outputs": [],
   "source": []
  }
 ],
 "metadata": {
  "kernelspec": {
   "display_name": "Python 2",
   "language": "python",
   "name": "python2"
  },
  "language_info": {
   "codemirror_mode": {
    "name": "ipython",
    "version": 2
   },
   "file_extension": ".py",
   "mimetype": "text/x-python",
   "name": "python",
   "nbconvert_exporter": "python",
   "pygments_lexer": "ipython2",
   "version": "2.7.11"
  }
 },
 "nbformat": 4,
 "nbformat_minor": 0
}

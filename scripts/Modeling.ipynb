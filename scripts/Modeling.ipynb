{
 "cells": [
  {
   "cell_type": "code",
   "execution_count": 1,
   "metadata": {
    "collapsed": false
   },
   "outputs": [
    {
     "name": "stderr",
     "output_type": "stream",
     "text": [
      "Using Theano backend.\n",
      "Using gpu device 0: GRID K520 (CNMeM is disabled, cuDNN not available)\n"
     ]
    }
   ],
   "source": [
    "# import utility libraries\n",
    "from netCDF4 import Dataset\n",
    "import pandas as pd\n",
    "import numpy as np\n",
    "import matplotlib as mpl\n",
    "import matplotlib.pyplot as plt\n",
    "from mpl_toolkits.basemap import Basemap, cm\n",
    "import cv2\n",
    "%matplotlib inline\n",
    "\n",
    "# import machine learning tools\n",
    "from sklearn.preprocessing import StandardScaler\n",
    "from keras.models import Sequential, Graph\n",
    "from keras.layers import Dense, Flatten, Activation, Dropout\n",
    "from keras.layers.convolutional import Convolution2D, ZeroPadding2D, MaxPooling2D\n",
    "from keras.optimizers import SGD\n",
    "from keras import backend as K\n",
    "from sklearn.metrics import roc_auc_score, accuracy_score\n",
    "\n",
    "from clustering import Location_Clusterer\n",
    "from util import plot_list_in_2D, reformat_y, plot_compare_map\n",
    "from nn_input import NN_Input\n",
    "from build_NN import build_base_sequential_NN"
   ]
  },
  {
   "cell_type": "code",
   "execution_count": null,
   "metadata": {
    "collapsed": true
   },
   "outputs": [],
   "source": [
    "n = 8\n",
    "folder = '/home/ubuntu/dataset/'\n",
    "files = ['veg.nc', 'ppt.monthly.mask.nc', 'tmean.monthly.mask.nc', 'elev.nc']\n",
    "var_names = ['Cv', 'Band1', 'Band1', 'elev']\n",
    "\n",
    "lc = Location_Clusterer(n_clusters=n)\n",
    "for f, var in zip(files, var_names):\n",
    "    lc.read_data(folder+f, var)\n",
    "\n",
    "lc.transform_data()\n",
    "clusters = lc.fit_predict(lc.data2d)"
   ]
  },
  {
   "cell_type": "code",
   "execution_count": null,
   "metadata": {
    "collapsed": true
   },
   "outputs": [],
   "source": [
    "nn = NN_Input(predict=2, history=5, box=5, random_seed=42)\n",
    "nn.load_labels(folder+'sign.label.nc', 'Band1')\n",
    "\n",
    "# f_paths = ['all.ndvi.nc','all.max.of.Wind.nc', 'all.min.of.Tmin.nc', 'all.mean.of.Tmin.nc', 'all.sum.of.Prec.nc',\n",
    "#            'all.max.of.Tmax.nc', 'all.mean.of.Tmax.nc','elev.nc', 'veg.nc']\n",
    "# variables = ['Band1', 'Wind', 'Tmin', 'Tmin', 'Prec', 'Tmax', 'Tmax', 'elev', 'Cv']\n",
    "# names = ['ndvi', 'max_wind', 'min_tmin', 'mean_tmin', 'total_prec', 'max_tmax', 'mean_tmax', 'elev', 'veg']\n",
    "# feature_types = ['history_time_series', 'forecast_time_series', 'forecast_time_series', 'forecast_time_series',\n",
    "#                  'forecast_time_series', 'forecast_time_series', 'forecast_time_series',\n",
    "#                 'single_layer', 'multi_layers']\n",
    "\n",
    "f_paths = ['all.mean.of.Tmin.nc', 'all.mean.of.Tmin.nc']\n",
    "variables = ['Tmin', 'Tmin']\n",
    "names = ['mean_tmin_history', 'mean_tmin_forecast']\n",
    "feature_types = ['history_time_series', 'forecast_time_series']\n",
    "\n",
    "for f_path, v, n, feature_type in zip(f_paths, variables, names, feature_types):\n",
    "    nn.load_features(folder+f_path, v, n, feature_type)"
   ]
  },
  {
   "cell_type": "code",
   "execution_count": null,
   "metadata": {
    "collapsed": true
   },
   "outputs": [],
   "source": [
    "point = [308, 290]\n",
    "for i, loc in enumerate(lc.ind2d):\n",
    "    if loc[0] == point[0] and loc[1] == point[1]:\n",
    "        cluster = clusters[i]\n",
    "\n",
    "print 'Modeling for cluster', cluster\n",
    "subset = lc.ind2d[clusters==cluster]\n",
    "\n",
    "print 'Getting training dataset'\n",
    "id_train, y_train, X_map_train = nn.select(n=100000, subset=subset)\n",
    "y_train = reformat_y(y_train)"
   ]
  },
  {
   "cell_type": "code",
   "execution_count": null,
   "metadata": {
    "collapsed": true
   },
   "outputs": [],
   "source": [
    "# Scaling data\n",
    "\n",
    "map_dimensions=X_map_train[0].shape\n",
    "print map_dimensions\n",
    "print np.all(X_map_train[0] == X_map_train[1])\n",
    "\n",
    "mean_train = np.mean(X_map_train.flatten())\n",
    "std_train = np.std(X_map_train.flatten())\n",
    "X_map_train = (X_map_train-mean_train)/std_train\n",
    "X_map_test = (X_map_test-mean_train)/std_train\n",
    "print y_train.shape"
   ]
  },
  {
   "cell_type": "code",
   "execution_count": null,
   "metadata": {
    "collapsed": true
   },
   "outputs": [],
   "source": [
    "model = build_base_sequential_NN(nb_filters=64, map_dimensions=map_dimensions)\n",
    "model.fit(X_map_train, y_train, batch_size=50, nb_epoch=5, verbose=True, validation_data=(X_map_test, y_test))\n",
    "train_predict = model.predict(X_map_train, verbose=True)\n",
    "test_predict = model.predict(X_map_test, verbose=True)"
   ]
  },
  {
   "cell_type": "code",
   "execution_count": null,
   "metadata": {
    "collapsed": true
   },
   "outputs": [],
   "source": [
    "threshold = 0.5\n",
    "\n",
    "print 'Training set:'\n",
    "print 'Bench mark:', np.sum(y_train[:,1])/float(len(y_train))\n",
    "print 'Accuracy:', accuracy_score(y_train[:,0], (train_predict[:,0]>threshold))\n",
    "print 'ROC AUC:', roc_auc_score(y_train[:,0], train_predict[:,0])\n",
    "print \n",
    "print 'Testing set:'\n",
    "print 'Bench mark:', np.sum(y_test[:,1])/float(len(y_test))\n",
    "print 'Accuracy:', accuracy_score(y_test[:,0], (test_predict[:,0]>threshold))\n",
    "print 'ROC AUC:', roc_auc_score(y_test[:,0], test_predict[:,0])"
   ]
  },
  {
   "cell_type": "code",
   "execution_count": null,
   "metadata": {
    "collapsed": true
   },
   "outputs": [],
   "source": [
    "image_paths = []\n",
    "for t in xrange(216, 217):\n",
    "\n",
    "    id_test, y_test, X_map_test = nn.select(t=t, subset=subset)\n",
    "    y_test = reformat_y(y_test)\n",
    "    X_map_test = (X_map_test-mean_train)/std_train\n",
    "    \n",
    "    timestamp = nn.times[(id_test[0,0]).astype(int)]\n",
    "    xs = nn.lons[(id_test[:,2]).astype(int)]\n",
    "    ys = nn.lats[(id_test[:,1]).astype(int)]\n",
    "    test_predict = model.predict(X_map_test)\n",
    "    \n",
    "    path = plot_compare_map(xs, ys, y_test[:,0], (test_predict[:,0]>threshold), timestamp)\n",
    "    image_paths.append(path)"
   ]
  }
 ],
 "metadata": {
  "kernelspec": {
   "display_name": "Python 2",
   "language": "python",
   "name": "python2"
  },
  "language_info": {
   "codemirror_mode": {
    "name": "ipython",
    "version": 2
   },
   "file_extension": ".py",
   "mimetype": "text/x-python",
   "name": "python",
   "nbconvert_exporter": "python",
   "pygments_lexer": "ipython2",
   "version": "2.7.11"
  }
 },
 "nbformat": 4,
 "nbformat_minor": 0
}

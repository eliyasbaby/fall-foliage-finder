{
 "cells": [
  {
   "cell_type": "code",
   "execution_count": 1,
   "metadata": {
    "collapsed": false
   },
   "outputs": [
    {
     "name": "stderr",
     "output_type": "stream",
     "text": [
      "Using Theano backend.\n",
      "Using gpu device 0: GRID K520 (CNMeM is disabled, cuDNN not available)\n"
     ]
    }
   ],
   "source": [
    "# import utility libraries\n",
    "from netCDF4 import Dataset\n",
    "import pandas as pd\n",
    "import numpy as np\n",
    "import matplotlib as mpl\n",
    "import matplotlib.pyplot as plt\n",
    "from mpl_toolkits.basemap import Basemap, cm\n",
    "import cv2\n",
    "from geojson import FeatureCollection, Polygon, Feature, dump\n",
    "%matplotlib inline\n",
    "\n",
    "# import machine learning tools\n",
    "from sklearn.preprocessing import StandardScaler\n",
    "from keras.models import Sequential, Graph\n",
    "from keras.layers import Dense, Flatten, Activation, Dropout\n",
    "from keras.layers.convolutional import Convolution2D, ZeroPadding2D, MaxPooling2D\n",
    "from keras.optimizers import SGD\n",
    "from keras import backend as K\n",
    "from keras.models import model_from_json\n",
    "from sklearn.metrics import roc_auc_score, accuracy_score\n",
    "\n",
    "from clustering import Location_Clusterer\n",
    "from util import plot_list_in_2D, reformat_y, plot_compare_map, scale_data, evaluate_model\n",
    "from nn_input import NN_Input\n",
    "from build_NN import build_base_sequential_NN"
   ]
  },
  {
   "cell_type": "code",
   "execution_count": 2,
   "metadata": {
    "collapsed": false
   },
   "outputs": [],
   "source": [
    "folder = '/home/ubuntu/dataset/'\n",
    "image_paths = []\n",
    "n_clusters = 8\n",
    "\n",
    "models = {}\n",
    "df_cluster = None\n",
    "\n",
    "for cluster in xrange(n_clusters):\n",
    "    json_file = '/home/ubuntu/fall-foliage-finder/models/tmin/model_architecture_'+str(cluster)+'.json'\n",
    "    weights_file = '/home/ubuntu/fall-foliage-finder/models/tmin/model_weights_'+str(cluster)+'.h5'\n",
    "    \n",
    "    sgd = SGD()\n",
    "    models[cluster] = model_from_json(open(json_file).read())\n",
    "    models[cluster].load_weights(weights_file)\n",
    "    models[cluster].compile(loss='categorical_crossentropy',\n",
    "                              optimizer=sgd,\n",
    "                              metrics=['accuracy'])\n",
    "    \n",
    "    df_subset = pd.read_table('/home/ubuntu/fall-foliage-finder/models/tmin/cluster_list_'+str(cluster)+'.txt',\n",
    "                             delimiter=' ', names = ['xs', 'ys'])\n",
    "    df_subset['cluster_num'] = np.ones(len(df_subset), dtype=int)*cluster\n",
    "    df_cluster = pd.concat((df_cluster, df_subset))\n",
    "    \n",
    "df_scaling = pd.read_table('/home/ubuntu/fall-foliage-finder/models/tmin/scaling_weights.txt', delimiter=' ')"
   ]
  },
  {
   "cell_type": "code",
   "execution_count": null,
   "metadata": {
    "collapsed": true
   },
   "outputs": [],
   "source": [
    "nn = NN_Input(predict=2, history=5, box=5, random_seed=42)\n",
    "nn.load_labels(folder+'sign.label.nc', 'Band1')\n",
    "\n",
    "f_paths = ['all.mean.of.Tmin.nc', 'all.mean.of.Tmin.nc']\n",
    "variables = ['Tmin', 'Tmin']\n",
    "names = ['mean_tmin_history', 'mean_tmin_forecast']\n",
    "feature_types = ['history_time_series', 'forecast_time_series']\n",
    "\n",
    "for f_path, v, n, feature_type in zip(f_paths, variables, names, feature_types):\n",
    "    nn.load_features(folder+f_path, v, n, feature_type)"
   ]
  },
  {
   "cell_type": "code",
   "execution_count": null,
   "metadata": {
    "collapsed": false,
    "scrolled": false
   },
   "outputs": [
    {
     "name": "stdout",
     "output_type": "stream",
     "text": [
      "for timepoint 217\n",
      "for cluster 0\n",
      "for cluster 1\n"
     ]
    }
   ],
   "source": [
    "threshold = 0.5\n",
    "res = 0.0625/2\n",
    "\n",
    "\n",
    "for timepoint in xrange(217, 227):\n",
    "    print 'for timepoint', timepoint\n",
    "    ids, y_true, y_predict = [], [], []\n",
    "    \n",
    "    for cluster, model in models.iteritems():\n",
    "        print 'for cluster', cluster\n",
    "        subset = df_cluster[df_cluster.cluster_num == cluster][['xs', 'ys']].values\n",
    "        id_test, y_test, X_map_test = nn.select(t=timepoint, subset=subset)\n",
    "        y_test = reformat_y(y_test)\n",
    "        X_test = scale_data(X_map_test, df_scaling.iloc[cluster]['mean'], df_scaling.iloc[cluster]['std'])\n",
    "        test_predict = model.predict(X_test)\n",
    "        if ids == []:\n",
    "            ids = id_test\n",
    "            y_true = y_test\n",
    "            y_predict = test_predict\n",
    "        else:\n",
    "            ids = np.vstack((ids, id_test))\n",
    "            y_true = np.vstack((y_true, y_test))\n",
    "            y_predict = np.vstack((y_predict, test_predict))\n",
    "        \n",
    "    timestamp = nn.times[(ids[0,0]).astype(int)]\n",
    "    xs = nn.lons[(ids[:,2]).astype(int)]\n",
    "    ys = nn.lats[(ids[:,1]).astype(int)]\n",
    "    \n",
    "    features=[]\n",
    "    for x, y, val_true, val_predict in zip(xs, ys, y_true[:,0], y_predict[:,0]):\n",
    "        poly = Polygon([[(x-res, y-res), (x-res, y+res), (x+res, y+res), (x+res, y-res), (x-res, y-res)]])\n",
    "        predict_class = int(val_predict*10)\n",
    "        features.append(Feature(geometry=poly, properties={\"true\": float(val_true), \"predict\": float(predict_class)}))\n",
    "    fc = FeatureCollection(features)\n",
    "    \n",
    "    #path = plot_compare_map(xs, ys, y_true[:,0], (y_predict[:,0]>threshold), timestamp)\n",
    "    #image_paths.append(path)\n",
    "    \n",
    "    with open(folder+'output/'+str(int(timestamp))+'.geojson', 'w') as outfile:\n",
    "        dump(fc, outfile)"
   ]
  },
  {
   "cell_type": "code",
   "execution_count": null,
   "metadata": {
    "collapsed": true
   },
   "outputs": [],
   "source": []
  }
 ],
 "metadata": {
  "kernelspec": {
   "display_name": "Python 2",
   "language": "python",
   "name": "python2"
  },
  "language_info": {
   "codemirror_mode": {
    "name": "ipython",
    "version": 2
   },
   "file_extension": ".py",
   "mimetype": "text/x-python",
   "name": "python",
   "nbconvert_exporter": "python",
   "pygments_lexer": "ipython2",
   "version": "2.7.11"
  }
 },
 "nbformat": 4,
 "nbformat_minor": 0
}

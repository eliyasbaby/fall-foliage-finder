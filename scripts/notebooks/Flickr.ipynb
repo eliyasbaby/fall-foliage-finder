{
 "cells": [
  {
   "cell_type": "code",
   "execution_count": 1,
   "metadata": {
    "collapsed": false
   },
   "outputs": [],
   "source": [
    "import flickrapi"
   ]
  },
  {
   "cell_type": "code",
   "execution_count": 4,
   "metadata": {
    "collapsed": false
   },
   "outputs": [],
   "source": [
    "import flickr\n",
    "import urllib, urlparse\n",
    "import os\n",
    "import sys"
   ]
  },
  {
   "cell_type": "code",
   "execution_count": 8,
   "metadata": {
    "collapsed": false
   },
   "outputs": [],
   "source": [
    "def get_tagged_images(tag, total_num=100, per_page=100):\n",
    "    # downloading image data\n",
    "    meta_file = open('_'.join(tag.split())+'_metadata.txt', 'w')\n",
    "    \n",
    "    page = total_num / per_page\n",
    "    \n",
    "    for i in xrange(page):\n",
    "        if i%10 == 0: \n",
    "            print i\n",
    "        f = flickr.photos_search(tags=tag, per_page=per_page, page=i, color_code=6)\n",
    "\n",
    "        # downloading images\n",
    "        for k in f:\n",
    "            date = k.datetaken\n",
    "            if k.getLocation() != None and date != None:\n",
    "                lat, lon = k.getLocation()\n",
    "                url = k.getURL(size='Small', urlType='source')\n",
    "                image = urllib.URLopener()\n",
    "                image.retrieve(url, os.path.basename(urlparse.urlparse(url).path)) \n",
    "                #print 'downloading:', url\n",
    "                line = [url.split('/')[-1][:-4], date, lat, lon]\n",
    "                meta_file.write('\\t'.join(line)+'\\n')\n",
    "\n",
    "    meta_file.close()"
   ]
  },
  {
   "cell_type": "code",
   "execution_count": 1,
   "metadata": {
    "collapsed": false
   },
   "outputs": [],
   "source": [
    "#get_tagged_images('fall foliage', total_num=100, per_page=100)"
   ]
  },
  {
   "cell_type": "code",
   "execution_count": 17,
   "metadata": {
    "collapsed": true
   },
   "outputs": [],
   "source": [
    "flickr = flickrapi.FlickrAPI(api_key, api_secret)\n",
    "photos = flickr.photos.search(tags='fall foliage', per_page='10', color_code=1)"
   ]
  },
  {
   "cell_type": "code",
   "execution_count": 25,
   "metadata": {
    "collapsed": false
   },
   "outputs": [
    {
     "name": "stdout",
     "output_type": "stream",
     "text": [
      "<Element photos at 0x10e2fce18>\n"
     ]
    }
   ],
   "source": [
    "for k in photos:\n",
    "    print k\n"
   ]
  },
  {
   "cell_type": "code",
   "execution_count": null,
   "metadata": {
    "collapsed": true
   },
   "outputs": [],
   "source": [
    "    photos = []\n",
    "    if data.rsp.photos.__dict__.has_key('photo'):\n",
    "        if isinstance(data.rsp.photos.photo, list):\n",
    "            for photo in data.rsp.photos.photo:\n",
    "                photos.append(_parse_photo(photo))\n",
    "        else:\n",
    "            photos = [_parse_photo(data.rsp.photos.photo)]\n",
    "    return photos"
   ]
  }
 ],
 "metadata": {
  "kernelspec": {
   "display_name": "Python 2",
   "language": "python",
   "name": "python2"
  },
  "language_info": {
   "codemirror_mode": {
    "name": "ipython",
    "version": 2
   },
   "file_extension": ".py",
   "mimetype": "text/x-python",
   "name": "python",
   "nbconvert_exporter": "python",
   "pygments_lexer": "ipython2",
   "version": "2.7.11"
  }
 },
 "nbformat": 4,
 "nbformat_minor": 0
}

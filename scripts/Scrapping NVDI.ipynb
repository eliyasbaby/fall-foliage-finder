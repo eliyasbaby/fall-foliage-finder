{
 "cells": [
  {
   "cell_type": "code",
   "execution_count": 3,
   "metadata": {
    "collapsed": false
   },
   "outputs": [],
   "source": [
    "import requests\n",
    "import json\n",
    "from bs4 import BeautifulSoup\n",
    "import re\n",
    "from modis_scraper import MODISScraper\n",
    "import os\n",
    "import subprocess"
   ]
  },
  {
   "cell_type": "code",
   "execution_count": 4,
   "metadata": {
    "collapsed": false
   },
   "outputs": [],
   "source": [
    "products = ['MOLT/MOD13C1.006/', 'MOLA/MYD13C1.006/']"
   ]
  },
  {
   "cell_type": "code",
   "execution_count": null,
   "metadata": {
    "collapsed": false
   },
   "outputs": [
    {
     "name": "stdout",
     "output_type": "stream",
     "text": [
      "Downloading product: MOLT/MOD13C1.006/\n",
      "Downloading date 2000.02.18/\n",
      "Downloading date 2000.03.05/\n",
      "Downloading date 2000.03.21/\n",
      "Downloading date 2000.04.06/\n",
      "Downloading date 2000.04.22/\n",
      "Downloading date 2000.05.08/\n",
      "Downloading date 2000.05.24/\n",
      "Downloading date 2000.06.09/\n",
      "Downloading date 2000.06.25/\n",
      "Downloading date 2000.07.11/\n",
      "Downloading date 2000.07.27/\n",
      "Downloading date 2000.08.12/\n",
      "Downloading date"
     ]
    }
   ],
   "source": [
    "for product in products:\n",
    "    m = MODISScraper()\n",
    "    m.download_latlon(product, format='hdf')"
   ]
  },
  {
   "cell_type": "code",
   "execution_count": null,
   "metadata": {
    "collapsed": true
   },
   "outputs": [],
   "source": [
    "# list all files in self.f_path\n",
    "#files = os.listdir('../data/nvdi/hdf/')\n",
    "# for everything that ends with .xml, change it to .hdf.xml\n",
    "'''\n",
    "for f in files:\n",
    "    ext = f.split('.')[-1]\n",
    "    if ext == 'xml':\n",
    "        subprocess\n",
    "        \n",
    "'''\n",
    "# for everything that ends with .hdf:\n",
    "# gdal_translate -of netCDF \"HDF4_EOS:EOS_GRID:\"{filename}\":MODIS_Grid_16Day_VI_CMG:CMG 0.05 Deg 16 days NDVI\" \n",
    "# {filename minus .hdf}.nc\n",
    "# delete original file"
   ]
  },
  {
   "cell_type": "code",
   "execution_count": null,
   "metadata": {
    "collapsed": true
   },
   "outputs": [],
   "source": []
  }
 ],
 "metadata": {
  "kernelspec": {
   "display_name": "Python 2",
   "language": "python",
   "name": "python2"
  },
  "language_info": {
   "codemirror_mode": {
    "name": "ipython",
    "version": 2
   },
   "file_extension": ".py",
   "mimetype": "text/x-python",
   "name": "python",
   "nbconvert_exporter": "python",
   "pygments_lexer": "ipython2",
   "version": "2.7.11"
  }
 },
 "nbformat": 4,
 "nbformat_minor": 0
}
